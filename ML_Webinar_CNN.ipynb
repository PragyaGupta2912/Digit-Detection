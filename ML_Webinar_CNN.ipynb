{
  "nbformat": 4,
  "nbformat_minor": 0,
  "metadata": {
    "colab": {
      "name": "ML-Webinar-CNN.ipynb",
      "provenance": [],
      "include_colab_link": true
    },
    "kernelspec": {
      "name": "python3",
      "display_name": "Python 3"
    },
    "accelerator": "GPU"
  },
  "cells": [
    {
      "cell_type": "markdown",
      "metadata": {
        "id": "view-in-github",
        "colab_type": "text"
      },
      "source": [
        "<a href=\"https://colab.research.google.com/github/astropsyche29/Digit-Detection/blob/master/ML_Webinar_CNN.ipynb\" target=\"_parent\"><img src=\"https://colab.research.google.com/assets/colab-badge.svg\" alt=\"Open In Colab\"/></a>"
      ]
    },
    {
      "cell_type": "code",
      "metadata": {
        "id": "mztj6zRS7tXk",
        "colab_type": "code",
        "colab": {}
      },
      "source": [
        "import keras"
      ],
      "execution_count": null,
      "outputs": []
    },
    {
      "cell_type": "code",
      "metadata": {
        "id": "LWisVgcLZVlz",
        "colab_type": "code",
        "colab": {}
      },
      "source": [
        "from keras.datasets import mnist"
      ],
      "execution_count": null,
      "outputs": []
    },
    {
      "cell_type": "code",
      "metadata": {
        "id": "x61lfm_jZmto",
        "colab_type": "code",
        "colab": {
          "base_uri": "https://localhost:8080/",
          "height": 51
        },
        "outputId": "5c2665d1-ddac-4348-e882-dda872afa5bb"
      },
      "source": [
        "data = mnist.load_data()"
      ],
      "execution_count": null,
      "outputs": [
        {
          "output_type": "stream",
          "text": [
            "Downloading data from https://s3.amazonaws.com/img-datasets/mnist.npz\n",
            "11493376/11490434 [==============================] - 1s 0us/step\n"
          ],
          "name": "stdout"
        }
      ]
    },
    {
      "cell_type": "code",
      "metadata": {
        "id": "Y4wV_av3ZuvI",
        "colab_type": "code",
        "colab": {
          "base_uri": "https://localhost:8080/",
          "height": 34
        },
        "outputId": "69305f33-d73c-409a-89b6-bf8609417526"
      },
      "source": [
        "len(data)"
      ],
      "execution_count": null,
      "outputs": [
        {
          "output_type": "execute_result",
          "data": {
            "text/plain": [
              "2"
            ]
          },
          "metadata": {
            "tags": []
          },
          "execution_count": 5
        }
      ]
    },
    {
      "cell_type": "code",
      "metadata": {
        "id": "jF5CMs-OZwzq",
        "colab_type": "code",
        "colab": {}
      },
      "source": [
        "(train_images, train_labels), (test_images, test_labels) = data"
      ],
      "execution_count": null,
      "outputs": []
    },
    {
      "cell_type": "code",
      "metadata": {
        "id": "1qa27oPfaFS7",
        "colab_type": "code",
        "colab": {
          "base_uri": "https://localhost:8080/",
          "height": 34
        },
        "outputId": "bbc4433b-f8a3-4278-a13e-6a3cf116dce1"
      },
      "source": [
        "len(train_images)"
      ],
      "execution_count": null,
      "outputs": [
        {
          "output_type": "execute_result",
          "data": {
            "text/plain": [
              "60000"
            ]
          },
          "metadata": {
            "tags": []
          },
          "execution_count": 7
        }
      ]
    },
    {
      "cell_type": "code",
      "metadata": {
        "id": "nBbzBuJpaIOJ",
        "colab_type": "code",
        "colab": {
          "base_uri": "https://localhost:8080/",
          "height": 34
        },
        "outputId": "cf4a9afc-07e4-4f10-c602-d93b18825272"
      },
      "source": [
        "len(train_labels)"
      ],
      "execution_count": null,
      "outputs": [
        {
          "output_type": "execute_result",
          "data": {
            "text/plain": [
              "60000"
            ]
          },
          "metadata": {
            "tags": []
          },
          "execution_count": 8
        }
      ]
    },
    {
      "cell_type": "code",
      "metadata": {
        "id": "lwBW2XxSaSCl",
        "colab_type": "code",
        "colab": {}
      },
      "source": [
        "train_images = train_images.reshape((60000, 28, 28, 1))"
      ],
      "execution_count": null,
      "outputs": []
    },
    {
      "cell_type": "code",
      "metadata": {
        "id": "wsvutP6daWP9",
        "colab_type": "code",
        "colab": {}
      },
      "source": [
        "train_images = train_images.astype('float')/255"
      ],
      "execution_count": null,
      "outputs": []
    },
    {
      "cell_type": "code",
      "metadata": {
        "id": "qjJZukmja8p7",
        "colab_type": "code",
        "colab": {}
      },
      "source": [
        "test_images = test_images.reshape((10000, 28, 28, 1))"
      ],
      "execution_count": null,
      "outputs": []
    },
    {
      "cell_type": "code",
      "metadata": {
        "id": "WnAmbjlPbn_V",
        "colab_type": "code",
        "colab": {}
      },
      "source": [
        "test_images = test_images.astype('float')/255"
      ],
      "execution_count": null,
      "outputs": []
    },
    {
      "cell_type": "code",
      "metadata": {
        "id": "KkmgUmVwbrlV",
        "colab_type": "code",
        "colab": {
          "base_uri": "https://localhost:8080/",
          "height": 34
        },
        "outputId": "b397a694-4206-4f16-8bb3-db0101ea8a62"
      },
      "source": [
        "train_labels[1]"
      ],
      "execution_count": null,
      "outputs": [
        {
          "output_type": "execute_result",
          "data": {
            "text/plain": [
              "0"
            ]
          },
          "metadata": {
            "tags": []
          },
          "execution_count": 13
        }
      ]
    },
    {
      "cell_type": "code",
      "metadata": {
        "id": "HwIItLAqbvld",
        "colab_type": "code",
        "colab": {}
      },
      "source": [
        "from keras.preprocessing import image"
      ],
      "execution_count": null,
      "outputs": []
    },
    {
      "cell_type": "code",
      "metadata": {
        "id": "-ZmeEXjTb6Ti",
        "colab_type": "code",
        "colab": {}
      },
      "source": [
        "import matplotlib.pyplot as plt"
      ],
      "execution_count": null,
      "outputs": []
    },
    {
      "cell_type": "code",
      "metadata": {
        "id": "rOqEMMKhb8p8",
        "colab_type": "code",
        "colab": {
          "base_uri": "https://localhost:8080/",
          "height": 282
        },
        "outputId": "baf06320-f9bf-4f0e-95d8-ed2667fcee75"
      },
      "source": [
        "plt.imshow(image.array_to_img(train_images[1]), cmap=\"gray\")"
      ],
      "execution_count": null,
      "outputs": [
        {
          "output_type": "execute_result",
          "data": {
            "text/plain": [
              "<matplotlib.image.AxesImage at 0x7febfe564278>"
            ]
          },
          "metadata": {
            "tags": []
          },
          "execution_count": 16
        },
        {
          "output_type": "display_data",
          "data": {
            "image/png": "[encoded data removed]",
            "text/plain": [
              "<Figure size 432x288 with 1 Axes>"
            ]
          },
          "metadata": {
            "tags": [],
            "needs_background": "light"
          }
        }
      ]
    },
    {
      "cell_type": "code",
      "metadata": {
        "id": "EtalF7RUcCv4",
        "colab_type": "code",
        "colab": {}
      },
      "source": [
        "#0 -> [1, 0, 0, 0, 0, 0 , 0 , 0]\n",
        "#1 -> [0, 1, 0, 0, 0, 0, 0, 0, 0]"
      ],
      "execution_count": null,
      "outputs": []
    },
    {
      "cell_type": "markdown",
      "metadata": {
        "id": "6LxvZDicT05S",
        "colab_type": "text"
      },
      "source": [
        ""
      ]
    },
    {
      "cell_type": "code",
      "metadata": {
        "id": "E-DUi3Q5cb_1",
        "colab_type": "code",
        "colab": {}
      },
      "source": [
        "from keras.utils import to_categorical"
      ],
      "execution_count": null,
      "outputs": []
    },
    {
      "cell_type": "code",
      "metadata": {
        "id": "NnrJXbt4chAy",
        "colab_type": "code",
        "colab": {}
      },
      "source": [
        "train_labels_original = train_labels\n",
        "train_labels = to_categorical(train_labels)"
      ],
      "execution_count": null,
      "outputs": []
    },
    {
      "cell_type": "code",
      "metadata": {
        "id": "EuCA4r-IckSi",
        "colab_type": "code",
        "colab": {
          "base_uri": "https://localhost:8080/",
          "height": 34
        },
        "outputId": "17ae8d33-6249-4110-ae4b-5cdb86c95587"
      },
      "source": [
        "train_labels[0]"
      ],
      "execution_count": null,
      "outputs": [
        {
          "output_type": "execute_result",
          "data": {
            "text/plain": [
              "array([0., 0., 0., 0., 0., 1., 0., 0., 0., 0.], dtype=float32)"
            ]
          },
          "metadata": {
            "tags": []
          },
          "execution_count": 19
        }
      ]
    },
    {
      "cell_type": "code",
      "metadata": {
        "id": "r9uAWSJVcla4",
        "colab_type": "code",
        "colab": {}
      },
      "source": [
        "test_labels_original = test_labels\n",
        "test_labels = to_categorical(test_labels)"
      ],
      "execution_count": null,
      "outputs": []
    },
    {
      "cell_type": "code",
      "metadata": {
        "id": "z29f0NElctHy",
        "colab_type": "code",
        "colab": {}
      },
      "source": [
        "from keras import layers, models"
      ],
      "execution_count": null,
      "outputs": []
    },
    {
      "cell_type": "code",
      "metadata": {
        "id": "9pWYJIpLczfe",
        "colab_type": "code",
        "colab": {}
      },
      "source": [
        "model = models.Sequential()"
      ],
      "execution_count": null,
      "outputs": []
    },
    {
      "cell_type": "code",
      "metadata": {
        "id": "jq4FLpBXc7VL",
        "colab_type": "code",
        "colab": {}
      },
      "source": [
        "model.add(layers.Conv2D(32, (3, 3), activation='relu', input_shape=(28, 28, 1)))"
      ],
      "execution_count": null,
      "outputs": []
    },
    {
      "cell_type": "code",
      "metadata": {
        "id": "ZXwSTK3NdheF",
        "colab_type": "code",
        "colab": {
          "base_uri": "https://localhost:8080/",
          "height": 187
        },
        "outputId": "382be210-5e8f-42de-f513-ff4b60f9464f"
      },
      "source": [
        "model.summary()"
      ],
      "execution_count": null,
      "outputs": [
        {
          "output_type": "stream",
          "text": [
            "Model: \"sequential_1\"\n",
            "_________________________________________________________________\n",
            "Layer (type)                 Output Shape              Param #   \n",
            "=================================================================\n",
            "conv2d_1 (Conv2D)            (None, 26, 26, 32)        320       \n",
            "=================================================================\n",
            "Total params: 320\n",
            "Trainable params: 320\n",
            "Non-trainable params: 0\n",
            "_________________________________________________________________\n"
          ],
          "name": "stdout"
        }
      ]
    },
    {
      "cell_type": "code",
      "metadata": {
        "id": "A3pzf3hldkr0",
        "colab_type": "code",
        "colab": {}
      },
      "source": [
        "model.add(layers.MaxPooling2D((2,2)))"
      ],
      "execution_count": null,
      "outputs": []
    },
    {
      "cell_type": "code",
      "metadata": {
        "id": "TvTKHW6ZeAOs",
        "colab_type": "code",
        "colab": {
          "base_uri": "https://localhost:8080/",
          "height": 221
        },
        "outputId": "d07426e8-747b-440a-8aff-e4a01cb6b0d9"
      },
      "source": [
        "model.summary()"
      ],
      "execution_count": null,
      "outputs": [
        {
          "output_type": "stream",
          "text": [
            "Model: \"sequential_1\"\n",
            "_________________________________________________________________\n",
            "Layer (type)                 Output Shape              Param #   \n",
            "=================================================================\n",
            "conv2d_1 (Conv2D)            (None, 26, 26, 32)        320       \n",
            "_________________________________________________________________\n",
            "max_pooling2d_1 (MaxPooling2 (None, 13, 13, 32)        0         \n",
            "=================================================================\n",
            "Total params: 320\n",
            "Trainable params: 320\n",
            "Non-trainable params: 0\n",
            "_________________________________________________________________\n"
          ],
          "name": "stdout"
        }
      ]
    },
    {
      "cell_type": "code",
      "metadata": {
        "id": "2XhIkFCkeBci",
        "colab_type": "code",
        "colab": {}
      },
      "source": [
        "model.add(layers.Conv2D(64, (3, 3), activation='relu'))"
      ],
      "execution_count": null,
      "outputs": []
    },
    {
      "cell_type": "code",
      "metadata": {
        "id": "Wvmyxo39eLk7",
        "colab_type": "code",
        "colab": {
          "base_uri": "https://localhost:8080/",
          "height": 255
        },
        "outputId": "39d0c702-3c19-4574-c3d0-f0e6105c7e11"
      },
      "source": [
        "model.summary()"
      ],
      "execution_count": null,
      "outputs": [
        {
          "output_type": "stream",
          "text": [
            "Model: \"sequential_1\"\n",
            "_________________________________________________________________\n",
            "Layer (type)                 Output Shape              Param #   \n",
            "=================================================================\n",
            "conv2d_1 (Conv2D)            (None, 26, 26, 32)        320       \n",
            "_________________________________________________________________\n",
            "max_pooling2d_1 (MaxPooling2 (None, 13, 13, 32)        0         \n",
            "_________________________________________________________________\n",
            "conv2d_2 (Conv2D)            (None, 11, 11, 64)        18496     \n",
            "=================================================================\n",
            "Total params: 18,816\n",
            "Trainable params: 18,816\n",
            "Non-trainable params: 0\n",
            "_________________________________________________________________\n"
          ],
          "name": "stdout"
        }
      ]
    },
    {
      "cell_type": "code",
      "metadata": {
        "id": "YBNZlfUqeb50",
        "colab_type": "code",
        "colab": {}
      },
      "source": [
        "model.add(layers.MaxPooling2D((2, 2)))"
      ],
      "execution_count": null,
      "outputs": []
    },
    {
      "cell_type": "code",
      "metadata": {
        "id": "NiEob3LqekRE",
        "colab_type": "code",
        "colab": {
          "base_uri": "https://localhost:8080/",
          "height": 289
        },
        "outputId": "12f96ba4-baee-437c-ce17-46c7f97e3843"
      },
      "source": [
        "model.summary()"
      ],
      "execution_count": null,
      "outputs": [
        {
          "output_type": "stream",
          "text": [
            "Model: \"sequential_1\"\n",
            "_________________________________________________________________\n",
            "Layer (type)                 Output Shape              Param #   \n",
            "=================================================================\n",
            "conv2d_1 (Conv2D)            (None, 26, 26, 32)        320       \n",
            "_________________________________________________________________\n",
            "max_pooling2d_1 (MaxPooling2 (None, 13, 13, 32)        0         \n",
            "_________________________________________________________________\n",
            "conv2d_2 (Conv2D)            (None, 11, 11, 64)        18496     \n",
            "_________________________________________________________________\n",
            "max_pooling2d_2 (MaxPooling2 (None, 5, 5, 64)          0         \n",
            "=================================================================\n",
            "Total params: 18,816\n",
            "Trainable params: 18,816\n",
            "Non-trainable params: 0\n",
            "_________________________________________________________________\n"
          ],
          "name": "stdout"
        }
      ]
    },
    {
      "cell_type": "code",
      "metadata": {
        "id": "Z03zZ860et7j",
        "colab_type": "code",
        "colab": {}
      },
      "source": [
        "model.add(layers.Conv2D(64, (3, 3), activation='relu'))"
      ],
      "execution_count": null,
      "outputs": []
    },
    {
      "cell_type": "code",
      "metadata": {
        "id": "lZTgtKYPezji",
        "colab_type": "code",
        "colab": {}
      },
      "source": [
        "model.add(layers.Flatten())"
      ],
      "execution_count": null,
      "outputs": []
    },
    {
      "cell_type": "code",
      "metadata": {
        "id": "iH5fzo18fE5m",
        "colab_type": "code",
        "colab": {
          "base_uri": "https://localhost:8080/",
          "height": 357
        },
        "outputId": "3988e642-8e35-48e5-e12f-9f3a23228c57"
      },
      "source": [
        "model.summary()"
      ],
      "execution_count": null,
      "outputs": [
        {
          "output_type": "stream",
          "text": [
            "Model: \"sequential_1\"\n",
            "_________________________________________________________________\n",
            "Layer (type)                 Output Shape              Param #   \n",
            "=================================================================\n",
            "conv2d_1 (Conv2D)            (None, 26, 26, 32)        320       \n",
            "_________________________________________________________________\n",
            "max_pooling2d_1 (MaxPooling2 (None, 13, 13, 32)        0         \n",
            "_________________________________________________________________\n",
            "conv2d_2 (Conv2D)            (None, 11, 11, 64)        18496     \n",
            "_________________________________________________________________\n",
            "max_pooling2d_2 (MaxPooling2 (None, 5, 5, 64)          0         \n",
            "_________________________________________________________________\n",
            "conv2d_3 (Conv2D)            (None, 3, 3, 64)          36928     \n",
            "_________________________________________________________________\n",
            "flatten_1 (Flatten)          (None, 576)               0         \n",
            "=================================================================\n",
            "Total params: 55,744\n",
            "Trainable params: 55,744\n",
            "Non-trainable params: 0\n",
            "_________________________________________________________________\n"
          ],
          "name": "stdout"
        }
      ]
    },
    {
      "cell_type": "code",
      "metadata": {
        "id": "XBV6Vu2CfGVk",
        "colab_type": "code",
        "colab": {}
      },
      "source": [
        "model.add(layers.Dense(64, activation='relu'))"
      ],
      "execution_count": null,
      "outputs": []
    },
    {
      "cell_type": "code",
      "metadata": {
        "id": "SuH1apOFfZ9p",
        "colab_type": "code",
        "colab": {
          "base_uri": "https://localhost:8080/",
          "height": 391
        },
        "outputId": "4618811f-37dd-45e2-e298-7119460e7d5d"
      },
      "source": [
        "model.summary()"
      ],
      "execution_count": null,
      "outputs": [
        {
          "output_type": "stream",
          "text": [
            "Model: \"sequential_1\"\n",
            "_________________________________________________________________\n",
            "Layer (type)                 Output Shape              Param #   \n",
            "=================================================================\n",
            "conv2d_1 (Conv2D)            (None, 26, 26, 32)        320       \n",
            "_________________________________________________________________\n",
            "max_pooling2d_1 (MaxPooling2 (None, 13, 13, 32)        0         \n",
            "_________________________________________________________________\n",
            "conv2d_2 (Conv2D)            (None, 11, 11, 64)        18496     \n",
            "_________________________________________________________________\n",
            "max_pooling2d_2 (MaxPooling2 (None, 5, 5, 64)          0         \n",
            "_________________________________________________________________\n",
            "conv2d_3 (Conv2D)            (None, 3, 3, 64)          36928     \n",
            "_________________________________________________________________\n",
            "flatten_1 (Flatten)          (None, 576)               0         \n",
            "_________________________________________________________________\n",
            "dense_1 (Dense)              (None, 64)                36928     \n",
            "=================================================================\n",
            "Total params: 92,672\n",
            "Trainable params: 92,672\n",
            "Non-trainable params: 0\n",
            "_________________________________________________________________\n"
          ],
          "name": "stdout"
        }
      ]
    },
    {
      "cell_type": "code",
      "metadata": {
        "id": "xWxI-wjQfbDU",
        "colab_type": "code",
        "colab": {}
      },
      "source": [
        "model.add(layers.Dense(10, activation='softmax'))"
      ],
      "execution_count": null,
      "outputs": []
    },
    {
      "cell_type": "code",
      "metadata": {
        "id": "HGAxJ8g8gB16",
        "colab_type": "code",
        "colab": {
          "base_uri": "https://localhost:8080/",
          "height": 425
        },
        "outputId": "be172372-4d24-4b99-d499-afb48896a263"
      },
      "source": [
        "model.summary()"
      ],
      "execution_count": null,
      "outputs": [
        {
          "output_type": "stream",
          "text": [
            "Model: \"sequential_1\"\n",
            "_________________________________________________________________\n",
            "Layer (type)                 Output Shape              Param #   \n",
            "=================================================================\n",
            "conv2d_1 (Conv2D)            (None, 26, 26, 32)        320       \n",
            "_________________________________________________________________\n",
            "max_pooling2d_1 (MaxPooling2 (None, 13, 13, 32)        0         \n",
            "_________________________________________________________________\n",
            "conv2d_2 (Conv2D)            (None, 11, 11, 64)        18496     \n",
            "_________________________________________________________________\n",
            "max_pooling2d_2 (MaxPooling2 (None, 5, 5, 64)          0         \n",
            "_________________________________________________________________\n",
            "conv2d_3 (Conv2D)            (None, 3, 3, 64)          36928     \n",
            "_________________________________________________________________\n",
            "flatten_1 (Flatten)          (None, 576)               0         \n",
            "_________________________________________________________________\n",
            "dense_1 (Dense)              (None, 64)                36928     \n",
            "_________________________________________________________________\n",
            "dense_2 (Dense)              (None, 10)                650       \n",
            "=================================================================\n",
            "Total params: 93,322\n",
            "Trainable params: 93,322\n",
            "Non-trainable params: 0\n",
            "_________________________________________________________________\n"
          ],
          "name": "stdout"
        }
      ]
    },
    {
      "cell_type": "code",
      "metadata": {
        "id": "ptxqJ7wGgDh8",
        "colab_type": "code",
        "colab": {}
      },
      "source": [
        "model.compile(loss='categorical_crossentropy', optimizer='rmsprop', metrics=['accuracy'])"
      ],
      "execution_count": null,
      "outputs": []
    },
    {
      "cell_type": "code",
      "metadata": {
        "id": "QshtH_XEgq5F",
        "colab_type": "code",
        "colab": {
          "base_uri": "https://localhost:8080/",
          "height": 1000
        },
        "outputId": "3cfd15f7-5071-4161-c1e5-16adae923c3c"
      },
      "source": [
        "model.fit(train_images, train_labels, epochs=100, batch_size=64)"
      ],
      "execution_count": null,
      "outputs": [
        {
          "output_type": "stream",
          "text": [
            "Epoch 1/100\n",
            "60000/60000 [==============================] - 4s 66us/step - loss: 9.4749e-04 - accuracy: 0.9998\n",
            "Epoch 2/100\n",
            "60000/60000 [==============================] - 4s 65us/step - loss: 0.0013 - accuracy: 0.9998\n",
            "Epoch 3/100\n",
            "60000/60000 [==============================] - 4s 63us/step - loss: 6.1893e-04 - accuracy: 0.9999\n",
            "Epoch 4/100\n",
            "60000/60000 [==============================] - 4s 64us/step - loss: 9.8501e-04 - accuracy: 0.9998\n",
            "Epoch 5/100\n",
            "60000/60000 [==============================] - 4s 61us/step - loss: 4.8625e-04 - accuracy: 1.0000\n",
            "Epoch 6/100\n",
            "60000/60000 [==============================] - 4s 64us/step - loss: 2.2999e-04 - accuracy: 1.0000\n",
            "Epoch 7/100\n",
            "60000/60000 [==============================] - 4s 64us/step - loss: 0.0011 - accuracy: 0.9999\n",
            "Epoch 8/100\n",
            "60000/60000 [==============================] - 4s 65us/step - loss: 8.6940e-04 - accuracy: 0.9999\n",
            "Epoch 9/100\n",
            "60000/60000 [==============================] - 4s 64us/step - loss: 9.7522e-04 - accuracy: 0.9999\n",
            "Epoch 10/100\n",
            "60000/60000 [==============================] - 4s 64us/step - loss: 8.8120e-04 - accuracy: 0.9999\n",
            "Epoch 11/100\n",
            "60000/60000 [==============================] - 4s 63us/step - loss: 7.3876e-05 - accuracy: 1.0000\n",
            "Epoch 12/100\n",
            "60000/60000 [==============================] - 4s 61us/step - loss: 4.2195e-04 - accuracy: 0.9999\n",
            "Epoch 13/100\n",
            "60000/60000 [==============================] - 4s 64us/step - loss: 0.0018 - accuracy: 0.9998\n",
            "Epoch 14/100\n",
            "60000/60000 [==============================] - 4s 66us/step - loss: 3.3848e-04 - accuracy: 0.9999\n",
            "Epoch 15/100\n",
            "60000/60000 [==============================] - 4s 66us/step - loss: 3.1901e-04 - accuracy: 0.9999\n",
            "Epoch 16/100\n",
            "60000/60000 [==============================] - 4s 64us/step - loss: 3.4760e-04 - accuracy: 0.9999\n",
            "Epoch 17/100\n",
            "60000/60000 [==============================] - 4s 62us/step - loss: 1.1741e-04 - accuracy: 1.0000\n",
            "Epoch 18/100\n",
            "60000/60000 [==============================] - 4s 62us/step - loss: 0.0010 - accuracy: 0.9999\n",
            "Epoch 19/100\n",
            "60000/60000 [==============================] - 4s 63us/step - loss: 4.9059e-04 - accuracy: 1.0000\n",
            "Epoch 20/100\n",
            "60000/60000 [==============================] - 4s 62us/step - loss: 7.2579e-04 - accuracy: 0.9999\n",
            "Epoch 21/100\n",
            "60000/60000 [==============================] - 4s 62us/step - loss: 5.8380e-04 - accuracy: 0.9999\n",
            "Epoch 22/100\n",
            "60000/60000 [==============================] - 4s 65us/step - loss: 6.6554e-09 - accuracy: 1.0000\n",
            "Epoch 23/100\n",
            "60000/60000 [==============================] - 4s 64us/step - loss: 3.5274e-04 - accuracy: 0.9999\n",
            "Epoch 24/100\n",
            "60000/60000 [==============================] - 4s 63us/step - loss: 3.6844e-04 - accuracy: 0.9999\n",
            "Epoch 25/100\n",
            "60000/60000 [==============================] - 4s 65us/step - loss: 1.0615e-04 - accuracy: 1.0000\n",
            "Epoch 26/100\n",
            "60000/60000 [==============================] - 4s 69us/step - loss: 5.6067e-04 - accuracy: 0.9999\n",
            "Epoch 27/100\n",
            "60000/60000 [==============================] - 4s 70us/step - loss: 5.3441e-04 - accuracy: 0.9999\n",
            "Epoch 28/100\n",
            "60000/60000 [==============================] - 4s 66us/step - loss: 4.6294e-04 - accuracy: 1.0000\n",
            "Epoch 29/100\n",
            "60000/60000 [==============================] - 4s 67us/step - loss: 4.1458e-04 - accuracy: 0.9999\n",
            "Epoch 30/100\n",
            "60000/60000 [==============================] - 4s 62us/step - loss: 4.7292e-04 - accuracy: 0.9999\n",
            "Epoch 31/100\n",
            "60000/60000 [==============================] - 4s 62us/step - loss: 4.9739e-07 - accuracy: 1.0000\n",
            "Epoch 32/100\n",
            "60000/60000 [==============================] - 4s 63us/step - loss: 4.5635e-05 - accuracy: 1.0000\n",
            "Epoch 33/100\n",
            "60000/60000 [==============================] - 4s 62us/step - loss: 1.5950e-04 - accuracy: 1.0000\n",
            "Epoch 34/100\n",
            "60000/60000 [==============================] - 4s 62us/step - loss: 0.0000e+00 - accuracy: 1.0000\n",
            "Epoch 35/100\n",
            "60000/60000 [==============================] - 4s 63us/step - loss: 0.0000e+00 - accuracy: 1.0000\n",
            "Epoch 36/100\n",
            "60000/60000 [==============================] - 4s 66us/step - loss: 0.0000e+00 - accuracy: 1.0000\n",
            "Epoch 37/100\n",
            "60000/60000 [==============================] - 4s 62us/step - loss: 0.0000e+00 - accuracy: 1.0000\n",
            "Epoch 38/100\n",
            "60000/60000 [==============================] - 4s 65us/step - loss: 0.0000e+00 - accuracy: 1.0000\n",
            "Epoch 39/100\n",
            "60000/60000 [==============================] - 4s 63us/step - loss: 0.0000e+00 - accuracy: 1.0000\n",
            "Epoch 40/100\n",
            "60000/60000 [==============================] - 4s 66us/step - loss: 0.0000e+00 - accuracy: 1.0000\n",
            "Epoch 41/100\n",
            "60000/60000 [==============================] - 4s 63us/step - loss: 0.0000e+00 - accuracy: 1.0000\n",
            "Epoch 42/100\n",
            "60000/60000 [==============================] - 4s 68us/step - loss: 0.0000e+00 - accuracy: 1.0000\n",
            "Epoch 43/100\n",
            "60000/60000 [==============================] - 4s 66us/step - loss: 0.0000e+00 - accuracy: 1.0000\n",
            "Epoch 44/100\n",
            "60000/60000 [==============================] - 4s 65us/step - loss: 0.0000e+00 - accuracy: 1.0000\n",
            "Epoch 45/100\n",
            "60000/60000 [==============================] - 4s 64us/step - loss: 0.0000e+00 - accuracy: 1.0000\n",
            "Epoch 46/100\n",
            "60000/60000 [==============================] - 4s 64us/step - loss: 0.0000e+00 - accuracy: 1.0000\n",
            "Epoch 47/100\n",
            "60000/60000 [==============================] - 4s 64us/step - loss: 0.0000e+00 - accuracy: 1.0000\n",
            "Epoch 48/100\n",
            "60000/60000 [==============================] - 4s 62us/step - loss: 0.0000e+00 - accuracy: 1.0000\n",
            "Epoch 49/100\n",
            "60000/60000 [==============================] - 4s 62us/step - loss: 0.0000e+00 - accuracy: 1.0000\n",
            "Epoch 50/100\n",
            "60000/60000 [==============================] - 4s 64us/step - loss: 0.0000e+00 - accuracy: 1.0000\n",
            "Epoch 51/100\n",
            "60000/60000 [==============================] - 4s 62us/step - loss: 0.0000e+00 - accuracy: 1.0000\n",
            "Epoch 52/100\n",
            "60000/60000 [==============================] - 4s 64us/step - loss: 0.0000e+00 - accuracy: 1.0000\n",
            "Epoch 53/100\n",
            "60000/60000 [==============================] - 4s 61us/step - loss: 0.0000e+00 - accuracy: 1.0000\n",
            "Epoch 54/100\n",
            "60000/60000 [==============================] - 4s 64us/step - loss: 0.0000e+00 - accuracy: 1.0000\n",
            "Epoch 55/100\n",
            "60000/60000 [==============================] - 4s 64us/step - loss: 0.0000e+00 - accuracy: 1.0000\n",
            "Epoch 56/100\n",
            "60000/60000 [==============================] - 4s 66us/step - loss: 0.0000e+00 - accuracy: 1.0000\n",
            "Epoch 57/100\n",
            "60000/60000 [==============================] - 4s 61us/step - loss: 0.0000e+00 - accuracy: 1.0000\n",
            "Epoch 58/100\n",
            "60000/60000 [==============================] - 4s 68us/step - loss: 0.0000e+00 - accuracy: 1.0000\n",
            "Epoch 59/100\n",
            "60000/60000 [==============================] - 4s 64us/step - loss: 0.0000e+00 - accuracy: 1.0000\n",
            "Epoch 60/100\n",
            "60000/60000 [==============================] - 4s 66us/step - loss: 0.0000e+00 - accuracy: 1.0000\n",
            "Epoch 61/100\n",
            "60000/60000 [==============================] - 4s 65us/step - loss: 0.0000e+00 - accuracy: 1.0000\n",
            "Epoch 62/100\n",
            "60000/60000 [==============================] - 4s 63us/step - loss: 0.0000e+00 - accuracy: 1.0000\n",
            "Epoch 63/100\n",
            "60000/60000 [==============================] - 4s 66us/step - loss: 0.0000e+00 - accuracy: 1.0000\n",
            "Epoch 64/100\n",
            "60000/60000 [==============================] - 4s 66us/step - loss: 0.0000e+00 - accuracy: 1.0000\n",
            "Epoch 65/100\n",
            "60000/60000 [==============================] - 4s 64us/step - loss: 0.0000e+00 - accuracy: 1.0000\n",
            "Epoch 66/100\n",
            "60000/60000 [==============================] - 4s 65us/step - loss: 0.0000e+00 - accuracy: 1.0000\n",
            "Epoch 67/100\n",
            "60000/60000 [==============================] - 4s 63us/step - loss: 0.0000e+00 - accuracy: 1.0000\n",
            "Epoch 68/100\n",
            "60000/60000 [==============================] - 4s 63us/step - loss: 0.0000e+00 - accuracy: 1.0000\n",
            "Epoch 69/100\n",
            "60000/60000 [==============================] - 4s 68us/step - loss: 0.0000e+00 - accuracy: 1.0000\n",
            "Epoch 70/100\n",
            "60000/60000 [==============================] - 4s 65us/step - loss: 0.0000e+00 - accuracy: 1.0000\n",
            "Epoch 71/100\n",
            "60000/60000 [==============================] - 4s 64us/step - loss: 0.0000e+00 - accuracy: 1.0000\n",
            "Epoch 72/100\n",
            "60000/60000 [==============================] - 4s 65us/step - loss: 0.0000e+00 - accuracy: 1.0000\n",
            "Epoch 73/100\n",
            "60000/60000 [==============================] - 4s 65us/step - loss: 0.0000e+00 - accuracy: 1.0000\n",
            "Epoch 74/100\n",
            "60000/60000 [==============================] - 4s 63us/step - loss: 0.0000e+00 - accuracy: 1.0000\n",
            "Epoch 75/100\n",
            "60000/60000 [==============================] - 4s 63us/step - loss: 0.0000e+00 - accuracy: 1.0000\n",
            "Epoch 76/100\n",
            "60000/60000 [==============================] - 4s 64us/step - loss: 0.0000e+00 - accuracy: 1.0000\n",
            "Epoch 77/100\n",
            "60000/60000 [==============================] - 4s 64us/step - loss: 0.0000e+00 - accuracy: 1.0000\n",
            "Epoch 78/100\n",
            "60000/60000 [==============================] - 4s 64us/step - loss: 0.0000e+00 - accuracy: 1.0000\n",
            "Epoch 79/100\n",
            "60000/60000 [==============================] - 4s 66us/step - loss: 0.0000e+00 - accuracy: 1.0000\n",
            "Epoch 80/100\n",
            "60000/60000 [==============================] - 4s 67us/step - loss: 0.0000e+00 - accuracy: 1.0000\n",
            "Epoch 81/100\n",
            "60000/60000 [==============================] - 4s 67us/step - loss: 0.0000e+00 - accuracy: 1.0000\n",
            "Epoch 82/100\n",
            "60000/60000 [==============================] - 4s 67us/step - loss: 0.0000e+00 - accuracy: 1.0000\n",
            "Epoch 83/100\n",
            "60000/60000 [==============================] - 4s 64us/step - loss: 0.0000e+00 - accuracy: 1.0000\n",
            "Epoch 84/100\n",
            "60000/60000 [==============================] - 4s 66us/step - loss: 0.0000e+00 - accuracy: 1.0000\n",
            "Epoch 85/100\n",
            "60000/60000 [==============================] - 4s 65us/step - loss: 0.0000e+00 - accuracy: 1.0000\n",
            "Epoch 86/100\n",
            "60000/60000 [==============================] - 4s 66us/step - loss: 0.0000e+00 - accuracy: 1.0000\n",
            "Epoch 87/100\n",
            "60000/60000 [==============================] - 4s 66us/step - loss: 0.0000e+00 - accuracy: 1.0000\n",
            "Epoch 88/100\n",
            "60000/60000 [==============================] - 4s 67us/step - loss: 0.0000e+00 - accuracy: 1.0000\n",
            "Epoch 89/100\n",
            "60000/60000 [==============================] - 4s 64us/step - loss: 0.0000e+00 - accuracy: 1.0000\n",
            "Epoch 90/100\n",
            "60000/60000 [==============================] - 4s 64us/step - loss: 0.0000e+00 - accuracy: 1.0000\n",
            "Epoch 91/100\n",
            "60000/60000 [==============================] - 4s 66us/step - loss: 0.0000e+00 - accuracy: 1.0000\n",
            "Epoch 92/100\n",
            "60000/60000 [==============================] - 4s 63us/step - loss: 0.0000e+00 - accuracy: 1.0000\n",
            "Epoch 93/100\n",
            "60000/60000 [==============================] - 4s 67us/step - loss: 0.0000e+00 - accuracy: 1.0000\n",
            "Epoch 94/100\n",
            "60000/60000 [==============================] - 4s 69us/step - loss: 0.0000e+00 - accuracy: 1.0000\n",
            "Epoch 95/100\n",
            "60000/60000 [==============================] - 4s 64us/step - loss: 0.0000e+00 - accuracy: 1.0000\n",
            "Epoch 96/100\n",
            "60000/60000 [==============================] - 4s 64us/step - loss: 0.0000e+00 - accuracy: 1.0000\n",
            "Epoch 97/100\n",
            "60000/60000 [==============================] - 4s 64us/step - loss: 0.0000e+00 - accuracy: 1.0000\n",
            "Epoch 98/100\n",
            "60000/60000 [==============================] - 4s 66us/step - loss: 0.0000e+00 - accuracy: 1.0000\n",
            "Epoch 99/100\n",
            "60000/60000 [==============================] - 4s 68us/step - loss: 0.0000e+00 - accuracy: 1.0000\n",
            "Epoch 100/100\n",
            "60000/60000 [==============================] - 4s 63us/step - loss: 0.0000e+00 - accuracy: 1.0000\n"
          ],
          "name": "stdout"
        },
        {
          "output_type": "execute_result",
          "data": {
            "text/plain": [
              "<keras.callbacks.callbacks.History at 0x7feba22569e8>"
            ]
          },
          "metadata": {
            "tags": []
          },
          "execution_count": 41
        }
      ]
    },
    {
      "cell_type": "code",
      "metadata": {
        "id": "xa0h9iqohARX",
        "colab_type": "code",
        "colab": {
          "base_uri": "https://localhost:8080/",
          "height": 34
        },
        "outputId": "9e0b2688-0d04-4d9d-b777-57c256d0147c"
      },
      "source": [
        "test_loss, test_accuracy = model.evaluate(test_images, test_labels)"
      ],
      "execution_count": null,
      "outputs": [
        {
          "output_type": "stream",
          "text": [
            "10000/10000 [==============================] - 1s 74us/step\n"
          ],
          "name": "stdout"
        }
      ]
    },
    {
      "cell_type": "code",
      "metadata": {
        "id": "8oix8kFBhm2F",
        "colab_type": "code",
        "colab": {
          "base_uri": "https://localhost:8080/",
          "height": 34
        },
        "outputId": "33b2cf86-1466-4551-fa4e-ebcdfffd0ee1"
      },
      "source": [
        "test_loss"
      ],
      "execution_count": null,
      "outputs": [
        {
          "output_type": "execute_result",
          "data": {
            "text/plain": [
              "0.24174524468518585"
            ]
          },
          "metadata": {
            "tags": []
          },
          "execution_count": 43
        }
      ]
    },
    {
      "cell_type": "code",
      "metadata": {
        "id": "LKbbDUZ2hoK8",
        "colab_type": "code",
        "colab": {
          "base_uri": "https://localhost:8080/",
          "height": 34
        },
        "outputId": "3bdd1709-5247-4b3b-8917-2060b376c67e"
      },
      "source": [
        "test_accuracy"
      ],
      "execution_count": null,
      "outputs": [
        {
          "output_type": "execute_result",
          "data": {
            "text/plain": [
              "0.9932000041007996"
            ]
          },
          "metadata": {
            "tags": []
          },
          "execution_count": 44
        }
      ]
    },
    {
      "cell_type": "code",
      "metadata": {
        "id": "rObR2P67hqCZ",
        "colab_type": "code",
        "colab": {}
      },
      "source": [
        "predictions = model.predict(test_images)\n",
        "#import numpy as np\n",
        "#predicted_classes = np.argmax(predictions, axis = 1)"
      ],
      "execution_count": null,
      "outputs": []
    },
    {
      "cell_type": "code",
      "metadata": {
        "id": "Fsf3b6xtRSrm",
        "colab_type": "code",
        "colab": {
          "base_uri": "https://localhost:8080/",
          "height": 282
        },
        "outputId": "89d2686e-aa1a-462c-b3ff-5660d3d2f265"
      },
      "source": [
        "plt.imshow(image.array_to_img(test_images[0]), cmap=\"gray\")"
      ],
      "execution_count": null,
      "outputs": [
        {
          "output_type": "execute_result",
          "data": {
            "text/plain": [
              "<matplotlib.image.AxesImage at 0x7feba211b2b0>"
            ]
          },
          "metadata": {
            "tags": []
          },
          "execution_count": 46
        },
        {
          "output_type": "display_data",
          "data": {
            "image/png": "[encoded data removed]",
            "text/plain": [
              "<Figure size 432x288 with 1 Axes>"
            ]
          },
          "metadata": {
            "tags": [],
            "needs_background": "light"
          }
        }
      ]
    },
    {
      "cell_type": "code",
      "metadata": {
        "id": "LRDo9IYNRYcg",
        "colab_type": "code",
        "colab": {
          "base_uri": "https://localhost:8080/",
          "height": 34
        },
        "outputId": "4302cbf5-e50e-4e73-db57-6004f2882c1d"
      },
      "source": [
        "test_labels_original[0]"
      ],
      "execution_count": null,
      "outputs": [
        {
          "output_type": "execute_result",
          "data": {
            "text/plain": [
              "7"
            ]
          },
          "metadata": {
            "tags": []
          },
          "execution_count": 47
        }
      ]
    },
    {
      "cell_type": "code",
      "metadata": {
        "id": "Ijhl7jA4SmwS",
        "colab_type": "code",
        "colab": {
          "base_uri": "https://localhost:8080/",
          "height": 68
        },
        "outputId": "6dd2b908-6efa-4677-dfa0-182917c6130c"
      },
      "source": [
        "predictions[0]"
      ],
      "execution_count": null,
      "outputs": [
        {
          "output_type": "execute_result",
          "data": {
            "text/plain": [
              "array([5.4189717e-17, 2.1640814e-14, 2.0068752e-15, 9.6721069e-13,\n",
              "       2.4714844e-16, 4.0625649e-13, 1.5338925e-19, 1.0000000e+00,\n",
              "       1.7989025e-16, 1.3227971e-12], dtype=float32)"
            ]
          },
          "metadata": {
            "tags": []
          },
          "execution_count": 113
        }
      ]
    },
    {
      "cell_type": "code",
      "metadata": {
        "id": "terFNIl3S9Qj",
        "colab_type": "code",
        "colab": {
          "base_uri": "https://localhost:8080/",
          "height": 34
        },
        "outputId": "58eed010-f251-4587-c31d-b33552f646a4"
      },
      "source": [
        "predicted_classes[0]"
      ],
      "execution_count": null,
      "outputs": [
        {
          "output_type": "execute_result",
          "data": {
            "text/plain": [
              "7"
            ]
          },
          "metadata": {
            "tags": []
          },
          "execution_count": 114
        }
      ]
    },
    {
      "cell_type": "code",
      "metadata": {
        "id": "tCm6yCNiUha8",
        "colab_type": "code",
        "colab": {
          "base_uri": "https://localhost:8080/",
          "height": 34
        },
        "outputId": "38c729e3-9946-4e96-cfcc-cd30d7a39f8b"
      },
      "source": [
        "test_images[0].shape"
      ],
      "execution_count": null,
      "outputs": [
        {
          "output_type": "execute_result",
          "data": {
            "text/plain": [
              "(28, 28, 1)"
            ]
          },
          "metadata": {
            "tags": []
          },
          "execution_count": 117
        }
      ]
    },
    {
      "cell_type": "code",
      "metadata": {
        "id": "1vafy5zSVGUv",
        "colab_type": "code",
        "colab": {
          "base_uri": "https://localhost:8080/",
          "height": 34
        },
        "outputId": "0d30db35-0aa1-4b46-c10b-646701f8848e"
      },
      "source": [
        "test_images.shape"
      ],
      "execution_count": null,
      "outputs": [
        {
          "output_type": "execute_result",
          "data": {
            "text/plain": [
              "(10000, 28, 28, 1)"
            ]
          },
          "metadata": {
            "tags": []
          },
          "execution_count": 122
        }
      ]
    },
    {
      "cell_type": "code",
      "metadata": {
        "id": "SHYbv2cwTjID",
        "colab_type": "code",
        "colab": {
          "base_uri": "https://localhost:8080/",
          "height": 336
        },
        "outputId": "73643b04-2303-4177-9308-792d270f63a5"
      },
      "source": [
        "img = image.load_img(path=\"/content/IMG_DCD1FF44BD32-1.jpeg\",grayscale=True,target_size=(28,28,1))\n",
        "\n",
        "img = image.img_to_array(img)\n",
        "plt.imshow(image.array_to_img(img), cmap=\"gray\")\n",
        "img = img.astype('float')/255\n",
        "test_img = img.reshape((1,28,28,1))\n",
        "img_class = model.predict_classes(test_img)\n",
        "prediction = img_class[0]\n",
        "prediction"
      ],
      "execution_count": null,
      "outputs": [
        {
          "output_type": "stream",
          "text": [
            "/usr/local/lib/python3.6/dist-packages/keras_preprocessing/image/utils.py:107: UserWarning: grayscale is deprecated. Please use color_mode = \"grayscale\"\n",
            "  warnings.warn('grayscale is deprecated. Please use '\n"
          ],
          "name": "stderr"
        },
        {
          "output_type": "execute_result",
          "data": {
            "text/plain": [
              "1"
            ]
          },
          "metadata": {
            "tags": []
          },
          "execution_count": 71
        },
        {
          "output_type": "display_data",
          "data": {
            "image/png": "[encoded data removed]",
            "text/plain": [
              "<Figure size 432x288 with 1 Axes>"
            ]
          },
          "metadata": {
            "tags": [],
            "needs_background": "light"
          }
        }
      ]
    },
    {
      "cell_type": "code",
      "metadata": {
        "id": "D2fkBNpkVTKa",
        "colab_type": "code",
        "colab": {
          "base_uri": "https://localhost:8080/",
          "height": 34
        },
        "outputId": "39f48ac9-2545-4fb3-fe5c-f6aff8220a08"
      },
      "source": [
        "prediction"
      ],
      "execution_count": null,
      "outputs": [
        {
          "output_type": "execute_result",
          "data": {
            "text/plain": [
              "4"
            ]
          },
          "metadata": {
            "tags": []
          },
          "execution_count": 58
        }
      ]
    },
    {
      "cell_type": "code",
      "metadata": {
        "id": "NWVyRqv_L-4m",
        "colab_type": "code",
        "colab": {}
      },
      "source": [
        "model.save('mnist.h5')"
      ],
      "execution_count": null,
      "outputs": []
    },
    {
      "cell_type": "code",
      "metadata": {
        "id": "hF7yuoGhPhFX",
        "colab_type": "code",
        "colab": {}
      },
      "source": [
        ""
      ],
      "execution_count": null,
      "outputs": []
    }
  ]
}